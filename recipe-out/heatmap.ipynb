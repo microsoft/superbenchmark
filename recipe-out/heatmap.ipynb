{
 "cells": [
  {
   "cell_type": "markdown",
   "metadata": {},
   "source": [
    "# CUDA GPU Kernel Time Utilization Heatmap"
   ]
  },
  {
   "cell_type": "markdown",
   "metadata": {},
   "source": [
    "This notebook calculates the percentage of GPU utilization based on the presence of CUDA kernels.\n",
    "\n",
    "Note that the utilization refers to the \"time\" utilization and not the \"resource\" utilization. If multiple kernels run concurrently, their utilization will be added up and may exceed 100%."
   ]
  },
  {
   "cell_type": "code",
   "execution_count": null,
   "metadata": {},
   "outputs": [],
   "source": [
    "import pandas as pd\n",
    "import plotly.express as px\n",
    "import plotly.offline as pyo\n",
    "\n",
    "from IPython.display import display, HTML, Markdown\n",
    "\n",
    "display(HTML(\"<style>.container { width:95% !important; }</style>\"))\n",
    "pd.set_option('display.max_colwidth', None)\n",
    "pd.set_option('display.max_rows', None)\n",
    "pyo.init_notebook_mode()"
   ]
  },
  {
   "cell_type": "markdown",
   "metadata": {},
   "source": [
    "This heatmap displays the GPU time utilization of CUDA kernels.\n",
    "* x axis shows the duration of the rank. It scales from 0 to the maximum duration across all ranks.\n",
    "* y axis displays unique names that have been categorized based on their duration on the x-axis."
   ]
  },
  {
   "cell_type": "code",
   "execution_count": null,
   "metadata": {},
   "outputs": [],
   "source": [
    "df = pd.read_parquet('analysis.parquet')\n",
    "df['Name'] = df['Report'] + '/' + df['Device ID'].astype(str) + '/' + df['PID'].astype(str)\n",
    "\n",
    "fig = px.imshow(\n",
    "    df.pivot(index='Name', columns='Duration')['In-Use'],\n",
    "    labels=dict(y='Report/Device/PID', x='Duration (s)', color='%'),\n",
    "    title='GPU Utilization (bins=30)', range_color=(0,100))\n",
    "\n",
    "fig.show()"
   ]
  }
 ],
 "metadata": {
  "language_info": {
   "name": "python"
  },
  "orig_nbformat": 4
 },
 "nbformat": 4,
 "nbformat_minor": 2
}
